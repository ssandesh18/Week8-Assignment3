{
  "nbformat": 4,
  "nbformat_minor": 0,
  "metadata": {
    "colab": {
      "provenance": []
    },
    "kernelspec": {
      "name": "python3",
      "display_name": "Python 3"
    },
    "language_info": {
      "name": "python"
    }
  },
  "cells": [
    {
      "cell_type": "code",
      "execution_count": null,
      "metadata": {
        "id": "W-co8suoRK_l"
      },
      "outputs": [],
      "source": []
    },
    {
      "cell_type": "markdown",
      "source": [
        "Que 1: Name any five plots that we can plot using the Seaborn library. Also, state the uses of each plot.\n",
        "\n",
        "Ans.\n",
        "\n",
        "1.Line Plot:\n",
        "A line plot is the simplest plot in all plotting types, as it is the visualization of a single function. This plot helps us to see the relationship between X-axis, Y-axis and it also takes some parameters such as hue, size, color, etc.  \n",
        "2.Count plot:\n",
        "A count plot is used to show the counts of observations in each categorical bin using bars.\n",
        "This method is accepting the parameters X, Y  which take the name of a variable in data, hue it is an optional parameter it helps to take column name for color encoding. Data is also an optional parameter that takes DataFrame, array, or list of arrays, Dataset for plotting\n",
        "3.Bar chart:\n",
        "A Bar Chart is a way of comparing a set of categorical data. It is better to convert continuous data to bins before plotting. The bar chart displays data\n",
        "using several bars, each representing a particular category. This method is accepting the parameters X, Y  which take the name of a variable in data, hue it is an optional parameter it helps to take column name for color encoding.\n",
        "4.Pair Plot:\n",
        "Pair plot creates a grid of axis such that each numeric variable in data will create a plot between each other the y-axis across a single row and the x-axis across a single column. The diagonal plots are a univariate distribution plot that helps to draw the marginal distribution of the data in each column.\n",
        "A pair plot pairwise relationships with other columns in the data frame and also plot pair plot with itself.\n",
        "5.Histogram :\n",
        "A histogram is a graph that shows the underlying frequency distribution of a set of continuous data. This chart is helpful in data collection and data analysis and hence it is widely used in the analytics industry. By plotting it allows to inspect the overall distribution of the data, outlier, skew present in the data.\n",
        "\n",
        "\n",
        "\n"
      ],
      "metadata": {
        "id": "ojJ5fQmPRMg7"
      }
    },
    {
      "cell_type": "markdown",
      "source": [
        "Que 2: Load the \"fmri\" dataset using the load_dataset function of seaborn. Plot a line plot using x =\n",
        "\"timepoint\" and y = \"signal\" for different events and regions.\n",
        "Note: timepoint, signal, event, and region are columns in the fmri dataset.\n",
        "Ans.\n",
        "import seaborn as sns\n",
        "\n",
        "fmri = sns.load_dataset('fmri')\n",
        "\n",
        "sns.lineplot(x='timepoint', y='signal',hue='event', style='region', data=fmri)"
      ],
      "metadata": {
        "id": "ypkfi-UjStou"
      }
    },
    {
      "cell_type": "markdown",
      "source": [
        "Que 3: Load the \"titanic\" dataset using the load_dataset function of seaborn. Plot two box plots using x =\n",
        "'pclass', y = 'age' and y = 'fare'.\n",
        "Note: pclass, age, and fare are columns in the titanic dataset.\n",
        "\n",
        "import seaborn as sns\n",
        "\n",
        "titanic = sns.load_dataset('titanic')\n",
        "\n",
        "sns.boxplot(x='class', y='age', data= titanic)\n",
        "\n",
        "sns.boxplot(x='class', y='fare', data= titanic)"
      ],
      "metadata": {
        "id": "xAiwhL-BTGz-"
      }
    },
    {
      "cell_type": "markdown",
      "source": [
        "Que 4: Use the \"diamonds\" dataset from seaborn to plot a histogram for the 'price' column. Use the hue\n",
        "parameter for the 'cut' column of the diamonds dataset.\n",
        "Ans.\n",
        "import seaborn as sns\n",
        "\n",
        "sns.displot(data=diamonds, x='price', hue='cut', kde=True)"
      ],
      "metadata": {
        "id": "YOnwC7RvTI-N"
      }
    },
    {
      "cell_type": "markdown",
      "source": [
        "Que 5: Use the \"iris\" dataset from seaborn to plot a pair plot. Use the hue parameter for the \"species\" column\n",
        "of the iris dataset.\n",
        "Ans.\n",
        "\n",
        "import seaborn as sns\n",
        "\n",
        "iris=sns.load_dataset('iris')\n",
        "\n",
        "sns.pairplot(iris, hue='species')"
      ],
      "metadata": {
        "id": "UWU-ZEKUTKrg"
      }
    },
    {
      "cell_type": "markdown",
      "source": [
        "Que 6: Use the \"flights\" dataset from seaborn to plot a heatmap.\n",
        "\n",
        "Ans.\n",
        "\n",
        "mport seaborn as sns\n",
        "\n",
        "flights= sns.load_dataset('flights')\n",
        "\n",
        "sns.heatmap(flights, annot=True)"
      ],
      "metadata": {
        "id": "tAVAsqUETMky"
      }
    },
    {
      "cell_type": "markdown",
      "source": [],
      "metadata": {
        "id": "2CQvWbiFej_R"
      }
    },
    {
      "cell_type": "markdown",
      "source": [],
      "metadata": {
        "id": "y8Hy6mBtSc0f"
      }
    }
  ]
}